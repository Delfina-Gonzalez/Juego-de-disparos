{
 "cells": [
  {
   "cell_type": "markdown",
   "metadata": {},
   "source": [
    "# Actividad 10\n",
    "Delfina González, legajo 18066/9, DNI 37358917\n",
    "\n",
    "Secciones que encontrarás en este notebook:\n",
    "- Introducción al problema\n",
    "- Datos de la partida\n",
    "- Importamos módulos necesarios y su ruta\n",
    "- Explicación del programa principal\n",
    "- Explicación del módulo con función auxiliar"
   ]
  },
  {
   "cell_type": "markdown",
   "metadata": {},
   "source": [
    "## Introducción a la problemática\n",
    "\n",
    "Vamos a realizar varias simulaciones de partidas en un juego de disparos. \n",
    "- Cada ronda tendrá jugadores con puntuaciones por kills, asistencias y muertes. \n",
    "- Se calculará el puntaje de cada ronda, para cada jugador y luego los valores finales de la partida: \n",
    "1) Se generará un ranking con los jugadores según su puntaje de cada ronda.\n",
    "2) Se determinará el MVP (Mejor Jugador del Partido) para cada ronda. \n",
    "3) Se contabilizara la cantidad total de kills, asistencias, muertes y MVP de cada jugador, para una tabla/resumen final.\n",
    "\n",
    "*Reglas del juego y puntajes:*      \n",
    "\n",
    "- **Kill**: 3 puntos\n",
    "- **Asistencia**: 1 punto\n",
    "- **Muerte**: -1 punto\n",
    "- **MVP**: Determinado por el puntaje más alto de la ronda."
   ]
  },
  {
   "cell_type": "markdown",
   "metadata": {},
   "source": [
    "## Datos de las partidas\n",
    "\n",
    "Contamos con la siguiente información"
   ]
  },
  {
   "cell_type": "code",
   "execution_count": null,
   "metadata": {},
   "outputs": [],
   "source": [
    "rounds = [\n",
    "{\n",
    "'Shadow': {'kills': 2, 'assists': 1, 'deaths': True},\n",
    "'Blaze': {'kills': 1, 'assists': 0, 'deaths': False},\n",
    "'Viper': {'kills': 1, 'assists': 2, 'deaths': True},\n",
    "'Frost': {'kills': 0, 'assists': 1, 'deaths': False},\n",
    "'Reaper': {'kills': 1, 'assists': 1, 'deaths': False}\n",
    "},\n",
    "{\n",
    "'Shadow': {'kills': 0, 'assists': 2, 'deaths': False},\n",
    "'Blaze': {'kills': 2, 'assists': 0, 'deaths': True},\n",
    "'Viper': {'kills': 1, 'assists': 1, 'deaths': False},\n",
    "'Frost': {'kills': 2, 'assists': 1, 'deaths': True},\n",
    "'Reaper': {'kills': 0, 'assists': 1, 'deaths': False}\n",
    "},\n",
    "{\n",
    "'Shadow': {'kills': 1, 'assists': 0, 'deaths': False},\n",
    "'Blaze': {'kills': 2, 'assists': 2, 'deaths': True},\n",
    "'Viper': {'kills': 1, 'assists': 1, 'deaths': True},\n",
    "'Frost': {'kills': 0, 'assists': 1, 'deaths': False},\n",
    "'Reaper': {'kills': 1, 'assists': 1, 'deaths': False}\n",
    "},\n",
    "{\n",
    "'Shadow': {'kills': 2, 'assists': 1, 'deaths': False},\n",
    "'Blaze': {'kills': 1, 'assists': 0, 'deaths': True},\n",
    "'Viper': {'kills': 0, 'assists': 2, 'deaths': False},\n",
    "'Frost': {'kills': 1, 'assists': 1, 'deaths': True},\n",
    "'Reaper': {'kills': 1, 'assists': 1, 'deaths': False}\n",
    "},\n",
    "{\n",
    "'Shadow': {'kills': 1, 'assists': 2, 'deaths': True},\n",
    "'Blaze': {'kills': 0, 'assists': 1, 'deaths': False},\n",
    "'Viper': {'kills': 2, 'assists': 0, 'deaths': True},\n",
    "'Frost': {'kills': 1, 'assists': 1, 'deaths': False},\n",
    "'Reaper': {'kills': 1, 'assists': 1, 'deaths': True}\n",
    "}\n",
    "]"
   ]
  },
  {
   "cell_type": "markdown",
   "metadata": {},
   "source": [
    "## Importamos módulos"
   ]
  },
  {
   "cell_type": "markdown",
   "metadata": {},
   "source": [
    "***Para resolver la actividad, vamos a usar funciones organizadas en el modulo Helpers***\n",
    "\n",
    "Se encuentra en la carpeta src >> *Importamos el modulo*"
   ]
  },
  {
   "cell_type": "code",
   "execution_count": null,
   "metadata": {},
   "outputs": [],
   "source": [
    "import sys\n",
    "import os\n",
    "\n",
    "# Añadimos el directorio src al sys.path\n",
    "sys.path.append(os.path.abspath(os.path.join('..', 'src')))\n"
   ]
  },
  {
   "cell_type": "code",
   "execution_count": null,
   "metadata": {},
   "outputs": [],
   "source": [
    "from helpers import *"
   ]
  },
  {
   "cell_type": "markdown",
   "metadata": {},
   "source": [
    "## Organización del programa principal\n",
    "\n",
    "Para cada ronda procesamos la información usando la **función auxiliar del módulo helpers**.\n",
    "\n",
    "Dentro de la función, recorremos los datos de cada jugador y calculamos:"
   ]
  },
  {
   "cell_type": "markdown",
   "metadata": {},
   "source": [
    "- Procesamos los datos: calculamos y contabilizamos.\n",
    "- Imprimimos ranking parcial y MVP de la ronda.\n",
    "- Se devuelve la informacion de datos acumulados al programa main."
   ]
  },
  {
   "cell_type": "markdown",
   "metadata": {},
   "source": [
    "Al finalizar el procesamiento de la función, **tenemos la información final acumulada de la partida para cada jugador**:\n",
    "\n",
    "1) Formateamos la información final de valores acumulados.\n",
    "2) Ordenamos la información final por puntaje decreciente.\n",
    "3) Imprimimos el ranking final."
   ]
  },
  {
   "cell_type": "markdown",
   "metadata": {},
   "source": [
    "**Entonces, primero recorremos cada ronda.**\n",
    "\n",
    "Se procesan los taos, imprimiendo los resultados parciales con la función "
   ]
  },
  {
   "cell_type": "code",
   "execution_count": null,
   "metadata": {},
   "outputs": [],
   "source": [
    "player_scores = {}",
    "for i, round in enumerate(rounds):",
    "    print(f"Ronda {i + 1}")",
    "    calculate_round_scores(round, player_scores)"
   ]
  },
  {
   "cell_type": "markdown",
   "metadata": {},
   "source": [
    "La función **calculate_round_scores(round)** se encuentra en el módulo helpers\n",
    "\n",
    "Además de hacer los calculos parciales e imprimirlos, devuelve al programa principal los acumulados."
   ]
  },
  {
   "cell_type": "markdown",
   "metadata": {},
   "source": [
    "Con esta información, los imprimimos ordenados."
   ]
  },
  {
   "cell_type": "code",
   "execution_count": 1,
   "metadata": {},
   "outputs": [
    {
     "name": "stdout",
     "output_type": "stream",
     "text": [
      "Ronda 1\n",
      "Shadow: 6 puntos\n",
      "Viper: 4 puntos\n",
      "Reaper: 4 puntos\n",
      "Blaze: 3 puntos\n",
      "Frost: 1 puntos\n",
      "MVP de esta ronda: Shadow\n",
      "--------------------------------------------------\n",
      "Ronda 2\n",
      "Frost: 6 puntos\n",
      "Blaze: 5 puntos\n",
      "Viper: 4 puntos\n",
      "Shadow: 2 puntos\n",
      "Reaper: 1 puntos\n",
      "MVP de esta ronda: Frost\n",
      "--------------------------------------------------\n",
      "Ronda 3\n",
      "Blaze: 7 puntos\n",
      "Reaper: 4 puntos\n",
      "Shadow: 3 puntos\n",
      "Viper: 3 puntos\n",
      "Frost: 1 puntos\n",
      "MVP de esta ronda: Blaze\n",
      "--------------------------------------------------\n",
      "Ronda 4\n",
      "Shadow: 7 puntos\n",
      "Reaper: 4 puntos\n",
      "Frost: 3 puntos\n",
      "Blaze: 2 puntos\n",
      "Viper: 2 puntos\n",
      "MVP de esta ronda: Shadow\n",
      "--------------------------------------------------\n",
      "Ronda 5\n",
      "Viper: 5 puntos\n",
      "Shadow: 4 puntos\n",
      "Frost: 4 puntos\n",
      "Reaper: 3 puntos\n",
      "Blaze: 1 puntos\n",
      "MVP de esta ronda: Viper\n",
      "--------------------------------------------------\n",
      "Ranking final:\n",
      "Jugador    Kills  Asist  Muertes Puntos MVPS  \n",
      "Shadow     6      6      2       22     2     \n",
      "Blaze      6      3      3       18     1     \n",
      "Viper      5      6      3       18     1     \n",
      "Reaper     4      5      1       16     0     \n",
      "Frost      4      5      2       15     1     \n"
     ]
    }
   ],
   "source": [
    "# Copio datos\n",
    "rounds = [\n",
    "{\n",
    "'Shadow': {'kills': 2, 'assists': 1, 'deaths': True},\n",
    "'Blaze': {'kills': 1, 'assists': 0, 'deaths': False},\n",
    "'Viper': {'kills': 1, 'assists': 2, 'deaths': True},\n",
    "'Frost': {'kills': 0, 'assists': 1, 'deaths': False},\n",
    "'Reaper': {'kills': 1, 'assists': 1, 'deaths': False}\n",
    "},\n",
    "{\n",
    "'Shadow': {'kills': 0, 'assists': 2, 'deaths': False},\n",
    "'Blaze': {'kills': 2, 'assists': 0, 'deaths': True},\n",
    "'Viper': {'kills': 1, 'assists': 1, 'deaths': False},\n",
    "'Frost': {'kills': 2, 'assists': 1, 'deaths': True},\n",
    "'Reaper': {'kills': 0, 'assists': 1, 'deaths': False}\n",
    "},\n",
    "{\n",
    "'Shadow': {'kills': 1, 'assists': 0, 'deaths': False},\n",
    "'Blaze': {'kills': 2, 'assists': 2, 'deaths': True},\n",
    "'Viper': {'kills': 1, 'assists': 1, 'deaths': True},\n",
    "'Frost': {'kills': 0, 'assists': 1, 'deaths': False},\n",
    "'Reaper': {'kills': 1, 'assists': 1, 'deaths': False}\n",
    "},\n",
    "{\n",
    "'Shadow': {'kills': 2, 'assists': 1, 'deaths': False},\n",
    "'Blaze': {'kills': 1, 'assists': 0, 'deaths': True},\n",
    "'Viper': {'kills': 0, 'assists': 2, 'deaths': False},\n",
    "'Frost': {'kills': 1, 'assists': 1, 'deaths': True},\n",
    "'Reaper': {'kills': 1, 'assists': 1, 'deaths': False}\n",
    "},\n",
    "{\n",
    "'Shadow': {'kills': 1, 'assists': 2, 'deaths': True},\n",
    "'Blaze': {'kills': 0, 'assists': 1, 'deaths': False},\n",
    "'Viper': {'kills': 2, 'assists': 0, 'deaths': True},\n",
    "'Frost': {'kills': 1, 'assists': 1, 'deaths': False},\n",
    "'Reaper': {'kills': 1, 'assists': 1, 'deaths': True}\n",
    "}\n",
    "]\n",
    "# Importo modulos necesarios\n",
    "\n",
    "import sys\n",
    "import os\n",
    "\n",
    "# Añadimos el directorio src al sys.path\n",
    "sys.path.append(os.path.abspath(os.path.join('..', 'src')))\n",
    "\n",
    "from helpers import *\n",
    "\n",
    "# Iteramos con la funcion auxiliar\n",
    "\n",
    "player_scores = {}",
    "for i, round in enumerate(rounds):",
    "    print(f"Ronda {i + 1}")",
    "    calculate_round_scores(round, player_scores)
    "\n",
    "# Imprimimos el ranking final\n",
    "\n",
    "print(\"Ranking final:\")\n",
    "\n",
    "# Formato de la tabla para la impresión\n",
    "print(\"Jugador\".ljust(10), \"Kills\".ljust(6), \"Asist\".ljust(6), \"Muertes\".ljust(7), \"Puntos\".ljust(6), \"MVPS\".ljust(6))\n",
    "\n",
    "# Ordenamos los jugadores por su puntaje total (de mayor a menor)\n",
    "sorted_players = sorted(player_scores.items(), key=lambda x: x[1]['score_total'], reverse=True)\n",
    "\n",
    "# Iterar sobre los jugadores ordenados y mostrar la información\n",
    "for player, stats in sorted_players:\n",
    "    print(f\"{player.ljust(10)} {str(stats['total_kills']).ljust(6)} {str(stats['total_asist']).ljust(6)} {str(stats['total_deaths']).ljust(7)} {str(stats['score_total']).ljust(6)} {str(stats['mvp_count']).ljust(6)}\")\n"
   ]
  },
  {
   "cell_type": "markdown",
   "metadata": {},
   "source": [
    "## Ahora, veamos en detalle la función importada de **helpers**"
   ]
  },
  {
   "cell_type": "markdown",
   "metadata": {},
   "source": [
    "¿Qué hace la *función* calculate_round_scores(round)?\n",
    "\n",
    "### Resumen de los procesos:\n",
    "\n",
    "Recibe los datos de cada ronda (round) y los procesa:\n",
    " - Acumula la cantidad de kills, asistencias y muertes de cada jugador.\n",
    " - Calcula los puntajes de cada jugador para esa ronda\n",
    " - Calcula y contabiliza al jugador con mayor puntaje de la ronda.\n",
    " - Imprime los resultados parciales de cada ronda: ordenados por puntaje final decreciente\n",
    " \n",
    "Luego de procesar todas las rondas, devuelve la información acumulada ordenada en un diccionario al programa principal\n",
    "\"return player_scores\"\n",
    "\n",
    "Para lograr estos procesos, disponemos de dos estructuras que guardan los datos:\n",
    "- Un diccionario que guarda los puntajes de los jugadores en cada ronda (para calcular internamente el MVP, y luego poder contabilizarlo).\n",
    "- Otro diccionario, que acumula los puntajes totales de cada jugador (kills, asistencias, muerte, MVPs), para devolver la informacion e imprimir en main el ranking final.\n",
    "\n",
    "### Explicación esquemática:\n",
    "\n",
    "![Image](https://github.com/user-attachments/assets/918555c8-dec6-426a-bf6d-2853bfa9019e)\n",
    "\n",
    " "
   ]
  }
 ],
 "metadata": {
  "kernelspec": {
   "display_name": "venv",
   "language": "python",
   "name": "python3"
  },
  "language_info": {
   "codemirror_mode": {
    "name": "ipython",
    "version": 3
   },
   "file_extension": ".py",
   "mimetype": "text/x-python",
   "name": "python",
   "nbconvert_exporter": "python",
   "pygments_lexer": "ipython3",
   "version": "3.12.9"
  }
 },
 "nbformat": 4,
 "nbformat_minor": 2
}
