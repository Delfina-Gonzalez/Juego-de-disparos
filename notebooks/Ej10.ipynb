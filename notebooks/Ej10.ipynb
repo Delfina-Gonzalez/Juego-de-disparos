{
 "cells": [
  {
   "cell_type": "markdown",
   "metadata": {},
   "source": [
    "# Actividad 10\n",
    "Delfina González, legajo 18066/9, DNI 37358917\n",
    "\n",
    "Secciones que encontrarás en este notebook:\n",
    "- Introducción al problema\n",
    "- Datos de la partida\n",
    "- Importamos módulos necesarios y su ruta\n",
    "- Explicación del programa principal\n",
    "- Explicación del módulo con función auxiliar"
   ]
  },
  {
   "cell_type": "markdown",
   "metadata": {},
   "source": [
    "## Introducción a la problemática\n",
    "\n",
    "Vamos a realizar varias simulaciones de partidas en un juego de disparos. \n",
    "- Cada ronda tendrá jugadores con puntuaciones por kills, asistencias y muertes. \n",
    "- Se calculará el puntaje de cada ronda, para cada jugador y luego los valores finales de la partida: \n",
    "1) Se generará un ranking con los jugadores según su puntaje de cada ronda.\n",
    "2) Se determinará el MVP (Mejor Jugador del Partido) para cada ronda. \n",
    "3) Se contabilizará la cantidad total de kills, asistencias, muertes y MVPs de cada jugador, para una tabla/resumen final.\n",
    "\n",
    "*Reglas del juego y puntajes:*      \n",
    "- **Kill**: 3 puntos\n",
    "- **Asistencia**: 1 punto\n",
    "- **Muerte**: -1 punto\n",
    "- **MVP**: Determinado por el puntaje más alto de la ronda."
   ]
  },
  {
   "cell_type": "markdown",
   "metadata": {},
   "source": [
    "## Datos de las partidas\n",
    "\n",
    "Contamos con la siguiente información:"
   ]
  },
  {
   "cell_type": "code",
   "metadata": {},
   "execution_count": null,
   "outputs": [],
   "source": [
    "rounds = [\n",
    "    {\n",
    "        'Shadow': {'kills': 2, 'assists': 1, 'deaths': True},\n",
    "        'Blaze': {'kills': 1, 'assists': 0, 'deaths': False},\n",
    "        'Viper': {'kills': 1, 'assists': 2, 'deaths': True},\n",
    "        'Frost': {'kills': 0, 'assists': 1, 'deaths': False},\n",
    "        'Reaper': {'kills': 1, 'assists': 1, 'deaths': False}\n",
    "    },\n",
    "    {\n",
    "        'Shadow': {'kills': 0, 'assists': 2, 'deaths': False},\n",
    "        'Blaze': {'kills': 2, 'assists': 0, 'deaths': True},\n",
    "        'Viper': {'kills': 1, 'assists': 1, 'deaths': False},\n",
    "        'Frost': {'kills': 2, 'assists': 1, 'deaths': True},\n",
    "        'Reaper': {'kills': 0, 'assists': 1, 'deaths': False}\n",
    "    },\n",
    "    {\n",
    "        'Shadow': {'kills': 1, 'assists': 0, 'deaths': False},\n",
    "        'Blaze': {'kills': 2, 'assists': 2, 'deaths': True},\n",
    "        'Viper': {'kills': 1, 'assists': 1, 'deaths': True},\n",
    "        'Frost': {'kills': 0, 'assists': 1, 'deaths': False},\n",
    "        'Reaper': {'kills': 1, 'assists': 1, 'deaths': False}\n",
    "    },\n",
    "    {\n",
    "        'Shadow': {'kills': 2, 'assists': 1, 'deaths': False},\n",
    "        'Blaze': {'kills': 1, 'assists': 0, 'deaths': True},\n",
    "        'Viper': {'kills': 0, 'assists': 2, 'deaths': False},\n",
    "        'Frost': {'kills': 1, 'assists': 1, 'deaths': True},\n",
    "        'Reaper': {'kills': 1, 'assists': 1, 'deaths': False}\n",
    "    },\n",
    "    {\n",
    "        'Shadow': {'kills': 1, 'assists': 2, 'deaths': True},\n",
    "        'Blaze': {'kills': 0, 'assists': 1, 'deaths': False},\n",
    "        'Viper': {'kills': 2, 'assists': 0, 'deaths': True},\n",
    "        'Frost': {'kills': 1, 'assists': 1, 'deaths': False},\n",
    "        'Reaper': {'kills': 1, 'assists': 1, 'deaths': True}\n",
    "    }\n",
    "]"
   ]
  },
  {
   "cell_type": "code",
   "metadata": {},
   "execution_count": null,
   "outputs": [],
   "source": [
    "import sys\n",
    "import os\n",
    "sys.path.append(os.path.abspath(os.path.join('..', 'src')))\n",
    "from helpers import *"
   ]
  },
  {
   "cell_type": "markdown",
   "metadata": {},
   "source": [
    "## Programa principal"
   ]
  },
  {
   "cell_type": "code",
   "metadata": {},
   "execution_count": null,
   "outputs": [],
   "source": [
    "player_scores = {}\n",
    "\n",
    "for i, round in enumerate(rounds):\n",
    "    print(f\"Ronda {i + 1}\")\n",
    "    calculate_round_scores(round, player_scores)\n",
    "    print(\"-\" * 50)\n",
    "\n",
    "print(\"Ranking final:\")\n",
    "print(f\"{'Jugador':<10} {'Kills':<6} {'Asist':<6} {'Muertes':<7} {'Puntos':<6} {'MVPS':<6}\")\n",
    "sorted_players = sorted(player_scores.items(), key=lambda x: x[1]['score_total'], reverse=True)\n",
    "\n",
    "for player, stats in sorted_players:\n",
    "    print(f\"{player:<10} {stats['total_kills']:<6} {stats['total_asist']:<6} {stats['total_deaths']:<7} {stats['score_total']:<6} {stats['mvp_count']:<6}\")"
   ]
  },
  {
   "cell_type": "markdown",
   "metadata": {},
   "source": [
    "## ¿Qué hace la función *calculate_round_scores(round)*?\n",
    "\n",
    "Esta función importada del módulo `helpers`:\n",
    "- Procesa los datos de la ronda: kills, asistencias, muertes.\n",
    "- Calcula puntajes por jugador (según las reglas del juego).\n",
    "- Ordena por puntaje decreciente e imprime la tabla.\n",
    "- Identifica y contabiliza al MVP de la ronda.\n",
    "- Devuelve el acumulado total al diccionario `player_scores`.\n",
    "\n",
    "Se utilizan dos estructuras:\n",
    "- Un diccionario para puntajes de cada ronda (para detectar al MVP).\n",
    "- Otro diccionario que acumula estadísticas generales para cada jugador."
   ]
  }
 ],
 "metadata": {
  "kernelspec": {
   "display_name": "Python 3",
   "language": "python",
   "name": "python3"
  },
  "language_info": {
   "name": "python",
   "version": "3.12"
  }
 },
 "nbformat": 4,
 "nbformat_minor": 5
}
